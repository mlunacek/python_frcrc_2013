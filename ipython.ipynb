{
 "metadata": {
  "name": "ipython"
 },
 "nbformat": 3,
 "nbformat_minor": 0,
 "worksheets": [
  {
   "cells": [
    {
     "cell_type": "markdown",
     "metadata": {},
     "source": [
      "##IPython Parallel Example"
     ]
    },
    {
     "cell_type": "code",
     "collapsed": false,
     "input": [
      "from IPython.parallel import Client\n",
      "import numpy as np\n",
      "import jobplot"
     ],
     "language": "python",
     "metadata": {},
     "outputs": [],
     "prompt_number": 1
    },
    {
     "cell_type": "markdown",
     "metadata": {},
     "source": [
      "### Function\n",
      "- Sleeps for x seconds\n",
      "- Returns time and pid information"
     ]
    },
    {
     "cell_type": "code",
     "collapsed": false,
     "input": [
      "def work(x):\n",
      "    import time, os\n",
      "    start_time = time.time()\n",
      "    time.sleep(x)\n",
      "    end_time = time.time()\n",
      "    return {'pid': os.getpid(), \n",
      "            'start_time': start_time, \n",
      "            'end_time': end_time}"
     ],
     "language": "python",
     "metadata": {},
     "outputs": [],
     "prompt_number": 2
    },
    {
     "cell_type": "markdown",
     "metadata": {},
     "source": [
      "### List of tasks"
     ]
    },
    {
     "cell_type": "code",
     "collapsed": false,
     "input": [
      "np.random.seed(1045)\n",
      "job_times = np.random.uniform(0.8, 2, 100)\n",
      "print mean(job_times)*len(job_times)/60.0"
     ],
     "language": "python",
     "metadata": {},
     "outputs": [
      {
       "output_type": "stream",
       "stream": "stdout",
       "text": [
        "2.27939814477\n"
       ]
      }
     ],
     "prompt_number": 3
    },
    {
     "cell_type": "markdown",
     "metadata": {},
     "source": [
      "### IPython\n",
      "\n",
      "Create the `Client`"
     ]
    },
    {
     "cell_type": "code",
     "collapsed": false,
     "input": [
      "rc = Client(profile='ssh')\n",
      "print len(rc.ids)"
     ],
     "language": "python",
     "metadata": {},
     "outputs": [
      {
       "output_type": "stream",
       "stream": "stdout",
       "text": [
        "36\n"
       ]
      }
     ],
     "prompt_number": 4
    },
    {
     "cell_type": "code",
     "collapsed": false,
     "input": [
      "lview = rc.load_balanced_view()"
     ],
     "language": "python",
     "metadata": {},
     "outputs": [],
     "prompt_number": 5
    },
    {
     "cell_type": "markdown",
     "metadata": {},
     "source": [
      "`map` the `job_times` list onto the `work` function"
     ]
    },
    {
     "cell_type": "code",
     "collapsed": false,
     "input": [
      "results = lview.map(work, job_times)\n",
      "results.wait()"
     ],
     "language": "python",
     "metadata": {},
     "outputs": [],
     "prompt_number": 6
    },
    {
     "cell_type": "markdown",
     "metadata": {},
     "source": [
      "###What does this look like?"
     ]
    },
    {
     "cell_type": "code",
     "collapsed": false,
     "input": [
      "jobplot.create_plot(results.get())"
     ],
     "language": "python",
     "metadata": {},
     "outputs": [
      {
       "output_type": "display_data",
       "png": "[encoded data removed]"
      }
     ],
     "prompt_number": 7
    },
    {
     "cell_type": "markdown",
     "metadata": {},
     "source": [
      "."
     ]
    }
   ],
   "metadata": {}
  }
 ]
}