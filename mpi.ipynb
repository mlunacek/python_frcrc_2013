{
 "metadata": {
  "name": "mpi"
 },
 "nbformat": 3,
 "nbformat_minor": 0,
 "worksheets": [
  {
   "cells": [
    {
     "cell_type": "markdown",
     "metadata": {},
     "source": [
      "## MPI example"
     ]
    },
    {
     "cell_type": "code",
     "collapsed": false,
     "input": [
      "import subprocess\n",
      "import signal\n",
      "import os"
     ],
     "language": "python",
     "metadata": {},
     "outputs": [],
     "prompt_number": 100
    },
    {
     "cell_type": "markdown",
     "metadata": {},
     "source": [
      "Quick Example: should take about 15 seconds"
     ]
    },
    {
     "cell_type": "code",
     "collapsed": false,
     "input": [
      "mpicmd = 'mpirun -mca btl ^openib -np 36 python mpi_dynamic.py -l 1 -u 2'\n",
      "mpi = subprocess.Popen(mpicmd, \n",
      "                       shell=True, \n",
      "                       stdout=subprocess.PIPE, \n",
      "                       stderr=subprocess.PIPE)"
     ],
     "language": "python",
     "metadata": {},
     "outputs": [],
     "prompt_number": 101
    },
    {
     "cell_type": "code",
     "collapsed": false,
     "input": [
      "mpi.wait()\n",
      "stdout, stderr = mpi.communicate()\n",
      "print stdout"
     ],
     "language": "python",
     "metadata": {},
     "outputs": [
      {
       "output_type": "stream",
       "stream": "stdout",
       "text": [
        "36 360 16.4182379246\n",
        "\n"
       ]
      }
     ],
     "prompt_number": 102
    },
    {
     "cell_type": "markdown",
     "metadata": {},
     "source": [
      "###What if an MPI task fails?"
     ]
    },
    {
     "cell_type": "code",
     "collapsed": false,
     "input": [
      "import subprocess\n",
      "mpicmd = 'mpirun -mca btl ^openib -np 36 python mpi_dynamic.py -l 20 -u 40'\n",
      "mpi = subprocess.Popen(mpicmd, \n",
      "                       shell=True, \n",
      "                       stdout=subprocess.PIPE, \n",
      "                       stderr=subprocess.PIPE)"
     ],
     "language": "python",
     "metadata": {},
     "outputs": [],
     "prompt_number": 109
    },
    {
     "cell_type": "markdown",
     "metadata": {},
     "source": [
      "Get the children of the mpi command."
     ]
    },
    {
     "cell_type": "code",
     "collapsed": false,
     "input": [
      "procmd = \"ps -o pid --ppid %d --noheaders\" % mpi.pid\n",
      "pro = subprocess.Popen(procmd, \n",
      "                        shell=True, \n",
      "                        stdout=subprocess.PIPE, \n",
      "                        stderr=subprocess.PIPE)\n",
      "pro.wait()\n",
      "stdout, stderr = pro.communicate()\n",
      "print stdout.split('\\n')"
     ],
     "language": "python",
     "metadata": {},
     "outputs": [
      {
       "output_type": "stream",
       "stream": "stdout",
       "text": [
        "['30916', '30917', '30918', '30919', '30920', '30921', '30922', '30923', '30924', '30925', '30926', '30927', '']\n"
       ]
      }
     ],
     "prompt_number": 110
    },
    {
     "cell_type": "markdown",
     "metadata": {},
     "source": [
      "Kill one of them."
     ]
    },
    {
     "cell_type": "code",
     "collapsed": false,
     "input": [
      "tmp_pid = stdout.split('\\n')[3]\n",
      "print tmp_pid\n",
      "os.kill(int(tmp_pid), signal.SIGTERM)\n",
      "\n",
      "stdout, stderr = mpi.communicate()\n",
      "print stderr"
     ],
     "language": "python",
     "metadata": {},
     "outputs": [
      {
       "output_type": "stream",
       "stream": "stdout",
       "text": [
        "30919\n",
        "--------------------------------------------------------------------------\n",
        "mpirun has exited due to process rank 3 with PID 30919 on\n",
        "node node0929 exiting improperly. There are two reasons this could occur:\n",
        "\n",
        "1. this process did not call \"init\" before exiting, but others in\n",
        "the job did. This can cause a job to hang indefinitely while it waits\n",
        "for all processes to call \"init\". By rule, if one process calls \"init\",\n",
        "then ALL processes must call \"init\" prior to termination.\n",
        "\n",
        "2. this process called \"init\", but exited without calling \"finalize\".\n",
        "By rule, all processes that call \"init\" MUST call \"finalize\" prior to\n",
        "exiting or it will be considered an \"abnormal termination\"\n",
        "\n",
        "This may have caused other processes in the application to be\n",
        "terminated by signals sent by mpirun (as reported here).\n",
        "--------------------------------------------------------------------------\n",
        "\n"
       ]
      }
     ],
     "prompt_number": 111
    },
    {
     "cell_type": "code",
     "collapsed": false,
     "input": [],
     "language": "python",
     "metadata": {},
     "outputs": []
    }
   ],
   "metadata": {}
  }
 ]
}