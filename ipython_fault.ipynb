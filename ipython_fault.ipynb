{
 "metadata": {
  "name": "ipython_fault_ssh"
 },
 "nbformat": 3,
 "nbformat_minor": 0,
 "worksheets": [
  {
   "cells": [
    {
     "cell_type": "markdown",
     "metadata": {},
     "source": [
      "##IPython Fault Tolerant Example"
     ]
    },
    {
     "cell_type": "code",
     "collapsed": false,
     "input": [
      "from IPython.parallel import Client\n",
      "import numpy as np\n",
      "import subprocess, signal, os, socket, time\n",
      "\n",
      "import jobplot"
     ],
     "language": "python",
     "metadata": {},
     "outputs": [],
     "prompt_number": 45
    },
    {
     "cell_type": "markdown",
     "metadata": {},
     "source": [
      "### Function\n",
      "- Sleeps for x seconds\n",
      "- Returns time and pid information"
     ]
    },
    {
     "cell_type": "code",
     "collapsed": false,
     "input": [
      "def work(x):\n",
      "    import time, os\n",
      "    start_time = time.time()\n",
      "    time.sleep(x)\n",
      "    end_time = time.time()\n",
      "    return {'pid': os.getpid(), \n",
      "            'start_time': start_time, \n",
      "            'end_time': end_time}"
     ],
     "language": "python",
     "metadata": {},
     "outputs": [],
     "prompt_number": 46
    },
    {
     "cell_type": "markdown",
     "metadata": {},
     "source": [
      "### IPython\n",
      "\n",
      "Create the `Client`"
     ]
    },
    {
     "cell_type": "code",
     "collapsed": false,
     "input": [
      "rc = Client(profile='ssh')\n",
      "print len(rc.ids)"
     ],
     "language": "python",
     "metadata": {},
     "outputs": [
      {
       "output_type": "stream",
       "stream": "stdout",
       "text": [
        "29\n"
       ]
      }
     ],
     "prompt_number": 47
    },
    {
     "cell_type": "markdown",
     "metadata": {},
     "source": [
      "Get the process ids for the engines on this node."
     ]
    },
    {
     "cell_type": "code",
     "collapsed": false,
     "input": [
      "def get_engine_info():\n",
      "    import os, socket\n",
      "    return {'hostname': socket.gethostname(), 'pid': os.getpid()}"
     ],
     "language": "python",
     "metadata": {},
     "outputs": [],
     "prompt_number": 48
    },
    {
     "cell_type": "code",
     "collapsed": false,
     "input": [
      "dv = rc[:]\n",
      "engine_info = dv.apply_sync(get_engine_info)\n",
      "\n",
      "engine_pids = []\n",
      "for x in engine_info:\n",
      "    if x['hostname'] == socket.gethostname():\n",
      "        engine_pids.append(x['pid'])\n",
      "        \n",
      "print len(engine_pids), engine_pids"
     ],
     "language": "python",
     "metadata": {},
     "outputs": [
      {
       "output_type": "stream",
       "stream": "stdout",
       "text": [
        "10 [20657, 20599, 20637, 20617, 20677, 20773, 20749, 20793, 20817, 20841]\n"
       ]
      }
     ],
     "prompt_number": 49
    },
    {
     "cell_type": "markdown",
     "metadata": {},
     "source": [
      "List of times"
     ]
    },
    {
     "cell_type": "code",
     "collapsed": false,
     "input": [
      "np.random.seed(1045)\n",
      "job_times = np.random.uniform(4,6, len(rc.ids)*10)"
     ],
     "language": "python",
     "metadata": {},
     "outputs": [],
     "prompt_number": 50
    },
    {
     "cell_type": "code",
     "collapsed": false,
     "input": [
      "lview = rc.load_balanced_view()\n",
      "lview.retries = 5"
     ],
     "language": "python",
     "metadata": {},
     "outputs": [],
     "prompt_number": 51
    },
    {
     "cell_type": "markdown",
     "metadata": {},
     "source": [
      "`map` the `job_times` list onto the `work` function.  Kill a few engines."
     ]
    },
    {
     "cell_type": "code",
     "collapsed": false,
     "input": [
      "results = lview.map(work, job_times)\n",
      "time.sleep(10)\n",
      "os.kill(int(engine_pids[1]), signal.SIGTERM)\n",
      "time.sleep(10)\n",
      "os.kill(int(engine_pids[2]), signal.SIGTERM)\n",
      "\n",
      "results.wait()\n",
      "print len(rc.ids), len(results.get()), len(job_times)"
     ],
     "language": "python",
     "metadata": {},
     "outputs": [
      {
       "output_type": "stream",
       "stream": "stdout",
       "text": [
        "27 290 290\n"
       ]
      }
     ],
     "prompt_number": 52
    },
    {
     "cell_type": "markdown",
     "metadata": {},
     "source": [
      "###What does this look like?"
     ]
    },
    {
     "cell_type": "code",
     "collapsed": false,
     "input": [
      "jobplot.create_plot(results.get())"
     ],
     "language": "python",
     "metadata": {},
     "outputs": [
      {
       "output_type": "display_data",
       "png": "[encoded data removed]"
      }
     ],
     "prompt_number": 53
    },
    {
     "cell_type": "markdown",
     "metadata": {},
     "source": [
      "."
     ]
    }
   ],
   "metadata": {}
  }
 ]
}